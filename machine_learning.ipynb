{
 "cells": [
  {
   "cell_type": "markdown",
   "metadata": {},
   "source": [
    "# Business Understanding"
   ]
  },
  {
   "cell_type": "markdown",
   "metadata": {},
   "source": [
    "### Columns and description\n",
    "1. ID: Unique number to represent patient ID\n",
    "2. PRG: Plasma glucose\n",
    "    Hyperglycemia (high levels of plasma glucose) is commonly associated with sepsis.\n",
    "3. PL: Blood Work Result-1 (mu U/ml)\n",
    "4. PR: Blood Pressure (mm Hg)\n",
    "5. SK: Blood Work Result-2 (mm)\n",
    "6. TS: Blood Work Result-3 (mu U/ml)\n",
    "7. M11: Body mass index (weight in kg/(height in m)^2)\n",
    "    Both underweight and obesity can weaken the immune system.  \n",
    "8. BD2: Blood Work Result-4 (mu U/ml)\n",
    "9. Age: Patients age (years)\n",
    "    Age is a significant factor in the risk and outcomes associated with sepsis. \n",
    "10. Insurance: If a patient holds a valid insurance card\n",
    "11. Sepsis: (Target) \n",
    "    * Positive: if a patient in ICU will develop a sepsis\n",
    "    * Negative: otherwise "
   ]
  },
  {
   "cell_type": "markdown",
   "metadata": {},
   "source": [
    "Sepsis:- the body's overwhelming and dysregulated response to an infection\n",
    "// 1. The immune system is not able to effectively fight off a bacterial or viral infection, leading to inflammation\n",
    "\n"
   ]
  },
  {
   "cell_type": "markdown",
   "metadata": {},
   "source": [
    "Goal: Build a model to predict if an ICU patient will develop a sepsis \n",
    "\n",
    "Null Hypothesis: There is no association between elevated plasma glucose levels and patients developing sepsis. \n",
    "\n",
    "Alternate Hypothesis: Elevated plasma glucose levels are associated with petients developing sepsis. \n",
    "\n",
    "Analytical Questions\n",
    "1. What is the effect of age on developing sepsis\n",
    "2. Is there any correlation between age and sepsis?\n",
    "3. Does having high plasma glucose level increase the risk for sepsis?\n",
    "4. How does the presence of antibiotics affect the development of sepsis in patients admitted to intensive care unit (ICU)?\n",
    "5. Is there any correlation betweeen insurance holders and sepsis?\n",
    "6. Can we use other factors such as renal failure, liver disease, or heart failure in our prediction model?\n",
    "7. Are there any differences in the development of sepsis based on race/ethnicity?\n",
    "8. Could elevated creatinine levels be used as a factor in predicting sepsis?\n",
    "9. Would it be beneficial to include other medical conditions like pneumonia, urinary tract infection, or gastrointestinal ble\n",
    "10. Would it be beneficial to include additional variables like kidney dysfunction, liver dysfunction, or heart failure in our model\n"
   ]
  },
  {
   "cell_type": "markdown",
   "metadata": {},
   "source": [
    "## Data Understanding"
   ]
  },
  {
   "cell_type": "markdown",
   "metadata": {},
   "source": [
    "1. Data Collection\n",
    "The data collection process is the first step in the analysis of a dataset, and it involves gathering all relevant information from various sources to form a comprehension\n",
    "2. Initial Data inspection\n",
    "    * Get an overview of the dataset's size, dimensions, and structure\n",
    "    *understand the data types(numeric, categorical, text)\n",
    "3. Descriptive statistics \n",
    "    * compute summary statistics for each feature, such as mean, median, standard deviation, minimum, maximum, etc\n",
    "4. Data Visualization\n",
    "    *Create visualizations like histograms, box plots, scatter plots, and correlation matrices to explore the distribution and relationships between variables. \n",
    "    *identify patterns, trends, and potential outliers. \n",
    "5. Handle missing values\n",
    "6. Data cleaning\n",
    "    *clean the data by addressing inconsistencies, errors, or outliers\n",
    "    *ensure that the data is in a format suitable for analysis \n",
    "7. Feature Engineering\n",
    "    *Create new features or transform existing ones to enhance the predictive power of the model\n",
    "    *Encode categorical"
   ]
  },
  {
   "cell_type": "code",
   "execution_count": 1,
   "metadata": {},
   "outputs": [],
   "source": [
    "import pandas as pd\n",
    "import numpy as np\n",
    "import matplotlib.pyplot as plt \n",
    "import seaborn as sns \n"
   ]
  },
  {
   "cell_type": "markdown",
   "metadata": {},
   "source": [
    "## Data Preparation"
   ]
  },
  {
   "cell_type": "markdown",
   "metadata": {},
   "source": [
    "1. Split dataset\n",
    "    *training - trains the model\n",
    "    *validation - helps tune hyperparameters\n",
    "    *test - evaluates model performance \n",
    "2. Create a pipeline to preprocess the data\n",
    "    1. Scale\n",
    "    2. Log Transformation\n",
    "3. Encode\n",
    "4. Split dataset into training and evaluation\n",
    "5. Check balance - Balance Dataset (depending on what you see)"
   ]
  },
  {
   "cell_type": "markdown",
   "metadata": {},
   "source": [
    "## Modeling"
   ]
  },
  {
   "cell_type": "markdown",
   "metadata": {},
   "source": [
    "1. Train Model\n",
    "    1. Train Model 1 - K-Nearest Neigbour (Distance model)\n",
    "    2. Train Model 2 - Logistic Regression (Gradient Descent)\n",
    "    3. Train Model 3 - Decision Tree (Decision Tree)\n",
    "2. Persit Model"
   ]
  },
  {
   "cell_type": "code",
   "execution_count": null,
   "metadata": {},
   "outputs": [],
   "source": []
  },
  {
   "cell_type": "code",
   "execution_count": null,
   "metadata": {},
   "outputs": [],
   "source": []
  },
  {
   "cell_type": "code",
   "execution_count": null,
   "metadata": {},
   "outputs": [],
   "source": []
  },
  {
   "cell_type": "code",
   "execution_count": null,
   "metadata": {},
   "outputs": [],
   "source": []
  },
  {
   "cell_type": "code",
   "execution_count": null,
   "metadata": {},
   "outputs": [],
   "source": []
  },
  {
   "cell_type": "code",
   "execution_count": null,
   "metadata": {},
   "outputs": [],
   "source": []
  },
  {
   "cell_type": "code",
   "execution_count": null,
   "metadata": {},
   "outputs": [],
   "source": []
  }
 ],
 "metadata": {
  "kernelspec": {
   "display_name": "venv",
   "language": "python",
   "name": "python3"
  },
  "language_info": {
   "codemirror_mode": {
    "name": "ipython",
    "version": 3
   },
   "file_extension": ".py",
   "mimetype": "text/x-python",
   "name": "python",
   "nbconvert_exporter": "python",
   "pygments_lexer": "ipython3",
   "version": "3.9.13"
  }
 },
 "nbformat": 4,
 "nbformat_minor": 2
}
